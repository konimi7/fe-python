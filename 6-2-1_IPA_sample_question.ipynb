{
 "cells": [
  {
   "cell_type": "code",
   "execution_count": 1,
   "metadata": {},
   "outputs": [],
   "source": [
    "import math # 数学関数の標準ライブラリ\n",
    "import matplotlib.pyplot as plt # グラフ描画の外部ライブラリ"
   ]
  },
  {
   "cell_type": "code",
   "execution_count": null,
   "metadata": {},
   "outputs": [],
   "source": [
    "def parse(s):\n",
    "    return [(x[0], int(x[1:])) for x in s.split(';')]"
   ]
  },
  {
   "cell_type": "code",
   "execution_count": null,
   "metadata": {},
   "outputs": [],
   "source": [
    "class Marker:\n",
    "    def __init__(self):\n",
    "        self.x, self.y, self.angle = 0, 0, 0\n",
    "        plt.xlim(-320, 320) # x 軸の表示範囲を設定\n",
    "        plt.ylim(-240, 240) # y 軸の表示範囲を設定\n",
    "    \n",
    "    def forward(self, val):\n",
    "        # 度数表で表した角度を，ラジアンで表した角度に変換\n",
    "        rad = math.radians(self.angle)\n",
    "        dx = val * math.cos(rad)\n",
    "        dy = val * math.sin(rad)\n",
    "        x1, y1, x2, y2 = self.x, self.y, self.x + dx, self.y + dy\n",
    "        # (x1, y1) と (x2, y2) を結ぶ線分を描画\n",
    "        plt.plot([x1, x2], [y1, y2], color='black', linewidth=2)\n",
    "        self.x, self.y = x2, y2\n",
    "    \n",
    "    def turn(self, val):\n",
    "        self.angle = (self.angle + val) % 360\n",
    "    \n",
    "    def show(self):\n",
    "        plt.show() # 描画結果を表示\n",
    "#        print(self.x, self.y, self.angle)"
   ]
  },
  {
   "cell_type": "code",
   "execution_count": null,
   "metadata": {},
   "outputs": [],
   "source": [
    "def draw(s):\n",
    "    insts = parse(s)\n",
    "    marker = Marker()\n",
    "    stack = []\n",
    "    opno = 0\n",
    "    while opno < len(insts):\n",
    "        print(stack)\n",
    "        code, val = insts[opno]\n",
    "        if code == 'F':\n",
    "            marker.forward(val)\n",
    "        elif code == 'T':\n",
    "            marker.turn(val)\n",
    "        elif code == 'R':\n",
    "            stack.append({'opno': opno, 'rest': val})\n",
    "        elif code == 'E':\n",
    "            if stack[-1]['rest'] > 1:\n",
    "                opno = stack[-1]['opno']\n",
    "                stack[-1]['rest'] -= 1\n",
    "            else:\n",
    "                stack.pop()\n",
    "        opno += 1\n",
    "    marker.show()"
   ]
  },
  {
   "cell_type": "code",
   "execution_count": null,
   "metadata": {},
   "outputs": [],
   "source": [
    "draw('R3;R4;F100;T90;E0;F100;E0')"
   ]
  },
  {
   "cell_type": "code",
   "execution_count": null,
   "metadata": {},
   "outputs": [],
   "source": [
    "draw('R5;F100;T72;E0')"
   ]
  },
  {
   "cell_type": "code",
   "execution_count": null,
   "metadata": {},
   "outputs": [],
   "source": [
    "draw('F100;T90;F173;T150;F200')"
   ]
  },
  {
   "cell_type": "code",
   "execution_count": null,
   "metadata": {},
   "outputs": [],
   "source": []
  }
 ],
 "metadata": {
  "kernelspec": {
   "display_name": "Python 3",
   "language": "python",
   "name": "python3"
  },
  "language_info": {
   "codemirror_mode": {
    "name": "ipython",
    "version": 3
   },
   "file_extension": ".py",
   "mimetype": "text/x-python",
   "name": "python",
   "nbconvert_exporter": "python",
   "pygments_lexer": "ipython3",
   "version": "3.6.7"
  }
 },
 "nbformat": 4,
 "nbformat_minor": 2
}
