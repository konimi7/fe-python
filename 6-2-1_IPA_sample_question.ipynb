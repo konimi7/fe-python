{
 "cells": [
  {
   "cell_type": "markdown",
   "metadata": {},
   "source": [
    "### 6-2-1 サンプル問題  \n",
    "（2019年10月28日にIPA（情報処理推進機構）が公開したPythonのサンプル問題）"
   ]
  },
  {
   "cell_type": "markdown",
   "metadata": {},
   "source": [
    "#### 〔プログラム〕"
   ]
  },
  {
   "cell_type": "code",
   "execution_count": 1,
   "metadata": {},
   "outputs": [],
   "source": [
    "import math # 数学関数の標準ライブラリ\n",
    "import matplotlib.pyplot as plt # グラフ描画の外部ライブラリ"
   ]
  },
  {
   "cell_type": "code",
   "execution_count": 2,
   "metadata": {},
   "outputs": [],
   "source": [
    "def parse(s):\n",
    "    return [(x[0], int(x[1:])) for x in s.split(';')]"
   ]
  },
  {
   "cell_type": "code",
   "execution_count": 3,
   "metadata": {},
   "outputs": [],
   "source": [
    "class Marker:\n",
    "    def __init__(self):\n",
    "        self.x, self.y, self.angle = 0, 0, 0\n",
    "        plt.xlim(-320, 320) # x 軸の表示範囲を設定\n",
    "        plt.ylim(-240, 240) # y 軸の表示範囲を設定\n",
    "    \n",
    "    def forward(self, val):\n",
    "        # 度数表で表した角度を，ラジアンで表した角度に変換\n",
    "        rad = math.radians(self.angle)\n",
    "        dx = val * math.cos(rad)\n",
    "        dy = val * math.sin(rad)\n",
    "        x1, y1, x2, y2 = self.x, self.y, self.x + dx, self.y + dy\n",
    "        # (x1, y1) と (x2, y2) を結ぶ線分を描画\n",
    "        plt.plot([x1, x2], [y1, y2], color='black', linewidth=2)\n",
    "        self.x, self.y = x2, y2\n",
    "    \n",
    "    def turn(self, val):\n",
    "        self.angle = (self.angle + val) % 360\n",
    "    \n",
    "    def show(self):\n",
    "        plt.show() # 描画結果を表示\n",
    "#        print(self.x, self.y, self.angle)"
   ]
  },
  {
   "cell_type": "code",
   "execution_count": 4,
   "metadata": {},
   "outputs": [],
   "source": [
    "def draw(s):\n",
    "    insts = parse(s)\n",
    "    marker = Marker()\n",
    "    stack = []\n",
    "    opno = 0\n",
    "    while opno < len(insts):\n",
    "        print(stack)\n",
    "        code, val = insts[opno]\n",
    "        if code == 'F':\n",
    "            marker.forward(val)\n",
    "        elif code == 'T':\n",
    "            marker.turn(val)\n",
    "        elif code == 'R':\n",
    "            stack.append({'opno': opno, 'rest': val})\n",
    "        elif code == 'E':\n",
    "            if stack[-1]['rest'] > 1:\n",
    "                opno = stack[-1]['opno']\n",
    "                stack[-1]['rest'] -= 1\n",
    "            else:\n",
    "                stack.pop()\n",
    "        opno += 1\n",
    "    marker.show()"
   ]
  },
  {
   "cell_type": "code",
   "execution_count": 5,
   "metadata": {},
   "outputs": [
    {
     "name": "stdout",
     "output_type": "stream",
     "text": [
      "[]\n",
      "[{'opno': 0, 'rest': 3}]\n",
      "[{'opno': 0, 'rest': 3}, {'opno': 1, 'rest': 4}]\n",
      "[{'opno': 0, 'rest': 3}, {'opno': 1, 'rest': 4}]\n",
      "[{'opno': 0, 'rest': 3}, {'opno': 1, 'rest': 4}]\n",
      "[{'opno': 0, 'rest': 3}, {'opno': 1, 'rest': 3}]\n",
      "[{'opno': 0, 'rest': 3}, {'opno': 1, 'rest': 3}]\n",
      "[{'opno': 0, 'rest': 3}, {'opno': 1, 'rest': 3}]\n",
      "[{'opno': 0, 'rest': 3}, {'opno': 1, 'rest': 2}]\n",
      "[{'opno': 0, 'rest': 3}, {'opno': 1, 'rest': 2}]\n",
      "[{'opno': 0, 'rest': 3}, {'opno': 1, 'rest': 2}]\n",
      "[{'opno': 0, 'rest': 3}, {'opno': 1, 'rest': 1}]\n",
      "[{'opno': 0, 'rest': 3}, {'opno': 1, 'rest': 1}]\n",
      "[{'opno': 0, 'rest': 3}, {'opno': 1, 'rest': 1}]\n",
      "[{'opno': 0, 'rest': 3}]\n",
      "[{'opno': 0, 'rest': 3}]\n",
      "[{'opno': 0, 'rest': 2}]\n",
      "[{'opno': 0, 'rest': 2}, {'opno': 1, 'rest': 4}]\n",
      "[{'opno': 0, 'rest': 2}, {'opno': 1, 'rest': 4}]\n",
      "[{'opno': 0, 'rest': 2}, {'opno': 1, 'rest': 4}]\n",
      "[{'opno': 0, 'rest': 2}, {'opno': 1, 'rest': 3}]\n",
      "[{'opno': 0, 'rest': 2}, {'opno': 1, 'rest': 3}]\n",
      "[{'opno': 0, 'rest': 2}, {'opno': 1, 'rest': 3}]\n",
      "[{'opno': 0, 'rest': 2}, {'opno': 1, 'rest': 2}]\n",
      "[{'opno': 0, 'rest': 2}, {'opno': 1, 'rest': 2}]\n",
      "[{'opno': 0, 'rest': 2}, {'opno': 1, 'rest': 2}]\n",
      "[{'opno': 0, 'rest': 2}, {'opno': 1, 'rest': 1}]\n",
      "[{'opno': 0, 'rest': 2}, {'opno': 1, 'rest': 1}]\n",
      "[{'opno': 0, 'rest': 2}, {'opno': 1, 'rest': 1}]\n",
      "[{'opno': 0, 'rest': 2}]\n",
      "[{'opno': 0, 'rest': 2}]\n",
      "[{'opno': 0, 'rest': 1}]\n",
      "[{'opno': 0, 'rest': 1}, {'opno': 1, 'rest': 4}]\n",
      "[{'opno': 0, 'rest': 1}, {'opno': 1, 'rest': 4}]\n",
      "[{'opno': 0, 'rest': 1}, {'opno': 1, 'rest': 4}]\n",
      "[{'opno': 0, 'rest': 1}, {'opno': 1, 'rest': 3}]\n",
      "[{'opno': 0, 'rest': 1}, {'opno': 1, 'rest': 3}]\n",
      "[{'opno': 0, 'rest': 1}, {'opno': 1, 'rest': 3}]\n",
      "[{'opno': 0, 'rest': 1}, {'opno': 1, 'rest': 2}]\n",
      "[{'opno': 0, 'rest': 1}, {'opno': 1, 'rest': 2}]\n",
      "[{'opno': 0, 'rest': 1}, {'opno': 1, 'rest': 2}]\n",
      "[{'opno': 0, 'rest': 1}, {'opno': 1, 'rest': 1}]\n",
      "[{'opno': 0, 'rest': 1}, {'opno': 1, 'rest': 1}]\n",
      "[{'opno': 0, 'rest': 1}, {'opno': 1, 'rest': 1}]\n",
      "[{'opno': 0, 'rest': 1}]\n",
      "[{'opno': 0, 'rest': 1}]\n"
     ]
    },
    {
     "data": {
      "image/png": "[encoded data removed]",
      "text/plain": [
       "<Figure size 432x288 with 1 Axes>"
      ]
     },
     "metadata": {
      "needs_background": "light"
     },
     "output_type": "display_data"
    }
   ],
   "source": [
    "draw('R3;R4;F100;T90;E0;F100;E0')"
   ]
  },
  {
   "cell_type": "code",
   "execution_count": 6,
   "metadata": {},
   "outputs": [
    {
     "name": "stdout",
     "output_type": "stream",
     "text": [
      "[]\n",
      "[{'opno': 0, 'rest': 5}]\n",
      "[{'opno': 0, 'rest': 5}]\n",
      "[{'opno': 0, 'rest': 5}]\n",
      "[{'opno': 0, 'rest': 4}]\n",
      "[{'opno': 0, 'rest': 4}]\n",
      "[{'opno': 0, 'rest': 4}]\n",
      "[{'opno': 0, 'rest': 3}]\n",
      "[{'opno': 0, 'rest': 3}]\n",
      "[{'opno': 0, 'rest': 3}]\n",
      "[{'opno': 0, 'rest': 2}]\n",
      "[{'opno': 0, 'rest': 2}]\n",
      "[{'opno': 0, 'rest': 2}]\n",
      "[{'opno': 0, 'rest': 1}]\n",
      "[{'opno': 0, 'rest': 1}]\n",
      "[{'opno': 0, 'rest': 1}]\n"
     ]
    },
    {
     "data": {
      "image/png": "[encoded data removed]",
      "text/plain": [
       "<Figure size 432x288 with 1 Axes>"
      ]
     },
     "metadata": {
      "needs_background": "light"
     },
     "output_type": "display_data"
    }
   ],
   "source": [
    "draw('R5;F100;T72;E0')"
   ]
  },
  {
   "cell_type": "code",
   "execution_count": 7,
   "metadata": {},
   "outputs": [
    {
     "name": "stdout",
     "output_type": "stream",
     "text": [
      "[]\n",
      "[]\n",
      "[]\n",
      "[]\n",
      "[]\n"
     ]
    },
    {
     "data": {
      "image/png": "[encoded data removed]",
      "text/plain": [
       "<Figure size 432x288 with 1 Axes>"
      ]
     },
     "metadata": {
      "needs_background": "light"
     },
     "output_type": "display_data"
    }
   ],
   "source": [
    "draw('F100;T90;F173;T150;F200')"
   ]
  },
  {
   "cell_type": "code",
   "execution_count": null,
   "metadata": {},
   "outputs": [],
   "source": []
  }
 ],
 "metadata": {
  "kernelspec": {
   "display_name": "Python [default]",
   "language": "python",
   "name": "python3"
  },
  "language_info": {
   "codemirror_mode": {
    "name": "ipython",
    "version": 3
   },
   "file_extension": ".py",
   "mimetype": "text/x-python",
   "name": "python",
   "nbconvert_exporter": "python",
   "pygments_lexer": "ipython3",
   "version": "3.7.3"
  }
 },
 "nbformat": 4,
 "nbformat_minor": 2
}
