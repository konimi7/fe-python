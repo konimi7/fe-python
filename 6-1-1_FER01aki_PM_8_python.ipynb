{
 "cells": [
  {
   "cell_type": "markdown",
   "metadata": {},
   "source": [
    "### 6-1-1 予想問題1  \n",
    "（令和元年秋 基本情報技術者試験 午後 問8（アルゴリズム）改）"
   ]
  },
  {
   "cell_type": "markdown",
   "metadata": {},
   "source": [
    "関数Indexを用意"
   ]
  },
  {
   "cell_type": "code",
   "execution_count": 1,
   "metadata": {},
   "outputs": [],
   "source": [
    "def Index(char):\n",
    "    alphabet = \"ABCDEFGHIJKLMNOPQRSTUVWXYZ\"\n",
    "    return alphabet.index(char[0]) + 1"
   ]
  },
  {
   "cell_type": "markdown",
   "metadata": {},
   "source": [
    "#### 〔プログラム1〕　　＊＊原稿の空欄ｂの解答が記載されちゃってる。又，各プログラムのソースの後が原稿に無い。＊＊"
   ]
  },
  {
   "cell_type": "code",
   "execution_count": 2,
   "metadata": {},
   "outputs": [],
   "source": [
    "def GenerateBitMask(Pat, Mask):\n",
    "    PatLen = len(Pat)\n",
    "    for i in range(1, 27):\n",
    "        Mask[i] = 0b0         # 初期化\n",
    "    for i in range(1, PatLen):\n",
    "        Mask[Index(Pat[i])] = 0b1 << (i - 1) | Mask[Index(Pat[i])]\n",
    "    return PatLen"
   ]
  },
  {
   "cell_type": "code",
   "execution_count": 3,
   "metadata": {},
   "outputs": [],
   "source": [
    "Mask = [0b0] * 27\n",
    "Text = \" AACBBAACABABAB\"\n",
    "Pat = \" ACABAB\""
   ]
  },
  {
   "cell_type": "code",
   "execution_count": 4,
   "metadata": {},
   "outputs": [
    {
     "data": {
      "text/plain": [
       "7"
      ]
     },
     "execution_count": 4,
     "metadata": {},
     "output_type": "execute_result"
    }
   ],
   "source": [
    "GenerateBitMask(Pat, Mask)"
   ]
  },
  {
   "cell_type": "code",
   "execution_count": 5,
   "metadata": {},
   "outputs": [
    {
     "data": {
      "text/plain": [
       "[0,\n",
       " 21,\n",
       " 40,\n",
       " 2,\n",
       " 0,\n",
       " 0,\n",
       " 0,\n",
       " 0,\n",
       " 0,\n",
       " 0,\n",
       " 0,\n",
       " 0,\n",
       " 0,\n",
       " 0,\n",
       " 0,\n",
       " 0,\n",
       " 0,\n",
       " 0,\n",
       " 0,\n",
       " 0,\n",
       " 0,\n",
       " 0,\n",
       " 0,\n",
       " 0,\n",
       " 0,\n",
       " 0,\n",
       " 0]"
      ]
     },
     "execution_count": 5,
     "metadata": {},
     "output_type": "execute_result"
    }
   ],
   "source": [
    "Mask"
   ]
  },
  {
   "cell_type": "markdown",
   "metadata": {},
   "source": [
    "#### 空欄穴埋め追加　プログラム1　　＊＊空欄ｂの解答が記載されている。＊＊"
   ]
  },
  {
   "cell_type": "code",
   "execution_count": 6,
   "metadata": {},
   "outputs": [
    {
     "ename": "SyntaxError",
     "evalue": "invalid character in identifier (<ipython-input-6-23c3f9c96b52>, line 4)",
     "output_type": "error",
     "traceback": [
      "\u001b[1;36m  File \u001b[1;32m\"<ipython-input-6-23c3f9c96b52>\"\u001b[1;36m, line \u001b[1;32m4\u001b[0m\n\u001b[1;33m    Mask[i] = 0b0 【　　b　　】        # 初期化\u001b[0m\n\u001b[1;37m                   　　 　　^\u001b[0m\n\u001b[1;31mSyntaxError\u001b[0m\u001b[1;31m:\u001b[0m invalid character in identifier\n"
     ]
    }
   ],
   "source": [
    "def GenerateBitMask(Pat, Mask):\n",
    "    PatLen = len(Pat)\n",
    "    for i in range(1, 27):\n",
    "        Mask[i] = 0b0 【　　b　　】        # 初期化\n",
    "    for i in range(1, PatLen):\n",
    "        Mask[Index(Pat[i])] = 【　　c　　】| Mask[Index(Pat[i])]\n",
    "    return PatLen"
   ]
  },
  {
   "cell_type": "markdown",
   "metadata": {},
   "source": [
    "#### 〔プログラム2〕"
   ]
  },
  {
   "cell_type": "code",
   "execution_count": 7,
   "metadata": {},
   "outputs": [],
   "source": [
    "def BitapMatch(Text, Pat):\n",
    "    TextLen = len(Text)\n",
    "    PatLen = GenerateBitMask(Pat, Mask)\n",
    "    Status = 0b0\n",
    "    Goal = 0b1 << (PatLen - 2)\n",
    "    for i in range(1, TextLen):\n",
    "        Status = Status << 1 | 0b1              # ← α\n",
    "        Status = Status & Mask[Index(Text[i])]  # ← β\n",
    "        print(i, bin(Mask[Index(Text[i])]), bin(Status))  # βの後のデータを表示\n",
    "        if Status & Goal != 0b0:\n",
    "            return (i - PatLen + 2)\n",
    "    return -1"
   ]
  },
  {
   "cell_type": "code",
   "execution_count": 8,
   "metadata": {},
   "outputs": [
    {
     "name": "stdout",
     "output_type": "stream",
     "text": [
      "1 0b10101 0b1\n",
      "2 0b10101 0b1\n",
      "3 0b10 0b10\n",
      "4 0b101000 0b0\n",
      "5 0b101000 0b0\n",
      "6 0b10101 0b1\n",
      "7 0b10101 0b1\n",
      "8 0b10 0b10\n",
      "9 0b10101 0b101\n",
      "10 0b101000 0b1000\n",
      "11 0b10101 0b10001\n",
      "12 0b101000 0b100000\n"
     ]
    },
    {
     "data": {
      "text/plain": [
       "7"
      ]
     },
     "execution_count": 8,
     "metadata": {},
     "output_type": "execute_result"
    }
   ],
   "source": [
    "BitapMatch(Text, Pat)"
   ]
  },
  {
   "cell_type": "markdown",
   "metadata": {},
   "source": [
    "#### 〔プログラム3〕"
   ]
  },
  {
   "cell_type": "code",
   "execution_count": 9,
   "metadata": {},
   "outputs": [],
   "source": [
    "def GenerateBitMaskRegex(Pat, Mask):\n",
    "    OriginalPatLen = len(Pat)\n",
    "    PatLen = 0\n",
    "    Mode = 0\n",
    "    for i in range(1, 27):\n",
    "        Mask[i] = 0b0          # 初期化\n",
    "    for i in range(1, OriginalPatLen):\n",
    "        if Pat[i] == \"[\":\n",
    "            Mode = 1\n",
    "            PatLen = PatLen + 1\n",
    "        elif Pat[i] == \"]\":\n",
    "            Mode = 0\n",
    "        else:\n",
    "            if Mode == 0:\n",
    "                PatLen += 1\n",
    "            Mask[Index(Pat[i])] = 0b1 << (PatLen - 1) | Mask[Index(Pat[i])]\n",
    "    return PatLen "
   ]
  },
  {
   "cell_type": "code",
   "execution_count": 10,
   "metadata": {},
   "outputs": [],
   "source": [
    "Pat = \" AC[BA]A[ABC]A\""
   ]
  },
  {
   "cell_type": "code",
   "execution_count": 11,
   "metadata": {},
   "outputs": [
    {
     "data": {
      "text/plain": [
       "6"
      ]
     },
     "execution_count": 11,
     "metadata": {},
     "output_type": "execute_result"
    }
   ],
   "source": [
    "GenerateBitMaskRegex(Pat, Mask)"
   ]
  },
  {
   "cell_type": "code",
   "execution_count": 12,
   "metadata": {},
   "outputs": [
    {
     "data": {
      "text/plain": [
       "'0b111101'"
      ]
     },
     "execution_count": 12,
     "metadata": {},
     "output_type": "execute_result"
    }
   ],
   "source": [
    "bin(Mask[1])"
   ]
  },
  {
   "cell_type": "code",
   "execution_count": null,
   "metadata": {},
   "outputs": [],
   "source": []
  }
 ],
 "metadata": {
  "kernelspec": {
   "display_name": "Python [default]",
   "language": "python",
   "name": "python3"
  },
  "language_info": {
   "codemirror_mode": {
    "name": "ipython",
    "version": 3
   },
   "file_extension": ".py",
   "mimetype": "text/x-python",
   "name": "python",
   "nbconvert_exporter": "python",
   "pygments_lexer": "ipython3",
   "version": "3.5.6"
  }
 },
 "nbformat": 4,
 "nbformat_minor": 2
}
