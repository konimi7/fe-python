{
 "cells": [
  {
   "cell_type": "markdown",
   "metadata": {},
   "source": [
    "### Python教科書　3章プログラム例"
   ]
  },
  {
   "cell_type": "markdown",
   "metadata": {},
   "source": [
    "#### 3-1-1 関数"
   ]
  },
  {
   "cell_type": "code",
   "execution_count": null,
   "metadata": {},
   "outputs": [],
   "source": []
  },
  {
   "cell_type": "code",
   "execution_count": 1,
   "metadata": {},
   "outputs": [],
   "source": [
    "def triangle_area(base, height):    # 引数として，底辺base，高さheightを入力\n",
    "    area = base * height / 2        # 面積areaを計算する処理を実行\n",
    "    return area                     # 面積areaを戻り値として返す"
   ]
  },
  {
   "cell_type": "code",
   "execution_count": 2,
   "metadata": {},
   "outputs": [
    {
     "name": "stdout",
     "output_type": "stream",
     "text": [
      "7.5\n"
     ]
    }
   ],
   "source": [
    "area = triangle_area(5, 3)\n",
    "print(area)"
   ]
  },
  {
   "cell_type": "code",
   "execution_count": 3,
   "metadata": {},
   "outputs": [],
   "source": [
    "def sum_list(digitlist):             # 引数として，数字の文字列リストdigitlistを入力\n",
    "    sum_digit = 0\n",
    "    for digit in digitlist:          # 引数digitlistから，要素を1つずつdigitに入れて繰返し\n",
    "        if digit.isdigit():          # 文字列digitが，数値に直せるかどうか判定\n",
    "            sum_digit += int(digit)  # digitを数値に変換して，sum_digitに加算\n",
    "    return sum_digit                 # 合計sum_digitを戻り値として返す"
   ]
  },
  {
   "cell_type": "code",
   "execution_count": 4,
   "metadata": {},
   "outputs": [
    {
     "name": "stdout",
     "output_type": "stream",
     "text": [
      "5\n"
     ]
    }
   ],
   "source": [
    "digitlist = ['1', '4', 'abc']\n",
    "sum_digit = sum_list(digitlist)      # '1', '4'だけ，数値として合計\n",
    "print(sum_digit)"
   ]
  },
  {
   "cell_type": "code",
   "execution_count": 5,
   "metadata": {},
   "outputs": [],
   "source": [
    "def triangle_area(base, height=1):   # 引数heightに，デフォルト値1を設定\n",
    "    area = base * height / 2\n",
    "    return area"
   ]
  },
  {
   "cell_type": "code",
   "execution_count": 6,
   "metadata": {},
   "outputs": [
    {
     "name": "stdout",
     "output_type": "stream",
     "text": [
      "2.5\n"
     ]
    }
   ],
   "source": [
    "area = triangle_area(5)          # 引数baseのみ設定，heightはデフォルト値\n",
    "print(area)"
   ]
  },
  {
   "cell_type": "code",
   "execution_count": 7,
   "metadata": {},
   "outputs": [
    {
     "name": "stdout",
     "output_type": "stream",
     "text": [
      "7.5\n"
     ]
    }
   ],
   "source": [
    "area = triangle_area(5, 3)       # 引数base，heightを設定，デフォルト値より優先される\n",
    "print(area)"
   ]
  },
  {
   "cell_type": "code",
   "execution_count": 8,
   "metadata": {},
   "outputs": [
    {
     "name": "stdout",
     "output_type": "stream",
     "text": [
      "7.5\n"
     ]
    }
   ],
   "source": [
    "area = triangle_area(base=5, height=3)  # キーワード引数で，引数base，heightを設定\n",
    "print(area)"
   ]
  },
  {
   "cell_type": "code",
   "execution_count": 9,
   "metadata": {},
   "outputs": [
    {
     "ename": "SyntaxError",
     "evalue": "positional argument follows keyword argument (<ipython-input-9-4372fcf4be45>, line 1)",
     "output_type": "error",
     "traceback": [
      "\u001b[1;36m  File \u001b[1;32m\"<ipython-input-9-4372fcf4be45>\"\u001b[1;36m, line \u001b[1;32m1\u001b[0m\n\u001b[1;33m    area = triangle_area(base=5, 3)        # キーワード引数の後の位置引数\u001b[0m\n\u001b[1;37m                                ^\u001b[0m\n\u001b[1;31mSyntaxError\u001b[0m\u001b[1;31m:\u001b[0m positional argument follows keyword argument\n"
     ]
    }
   ],
   "source": [
    "area = triangle_area(base=5, 3)        # キーワード引数の後の位置引数"
   ]
  },
  {
   "cell_type": "code",
   "execution_count": 41,
   "metadata": {},
   "outputs": [
    {
     "ename": "TypeError",
     "evalue": "triangle_area() missing 1 required positional argument: 'base'",
     "output_type": "error",
     "traceback": [
      "\u001b[1;31m---------------------------------------------------------------------------\u001b[0m",
      "\u001b[1;31mTypeError\u001b[0m                                 Traceback (most recent call last)",
      "\u001b[1;32m<ipython-input-41-2d9d386e1abf>\u001b[0m in \u001b[0;36m<module>\u001b[1;34m\u001b[0m\n\u001b[1;32m----> 1\u001b[1;33m \u001b[0marea\u001b[0m \u001b[1;33m=\u001b[0m \u001b[0mtriangle_area\u001b[0m\u001b[1;33m(\u001b[0m\u001b[0mheight\u001b[0m\u001b[1;33m=\u001b[0m\u001b[1;36m3\u001b[0m\u001b[1;33m)\u001b[0m         \u001b[1;31m# 必須引数baseがない\u001b[0m\u001b[1;33m\u001b[0m\u001b[1;33m\u001b[0m\u001b[0m\n\u001b[0m",
      "\u001b[1;31mTypeError\u001b[0m: triangle_area() missing 1 required positional argument: 'base'"
     ]
    }
   ],
   "source": [
    "area = triangle_area(height=3)         # 必須引数baseがない"
   ]
  },
  {
   "cell_type": "code",
   "execution_count": 42,
   "metadata": {},
   "outputs": [
    {
     "ename": "TypeError",
     "evalue": "triangle_area() got multiple values for argument 'base'",
     "output_type": "error",
     "traceback": [
      "\u001b[1;31m---------------------------------------------------------------------------\u001b[0m",
      "\u001b[1;31mTypeError\u001b[0m                                 Traceback (most recent call last)",
      "\u001b[1;32m<ipython-input-42-592965ac7885>\u001b[0m in \u001b[0;36m<module>\u001b[1;34m\u001b[0m\n\u001b[1;32m----> 1\u001b[1;33m \u001b[0marea\u001b[0m \u001b[1;33m=\u001b[0m \u001b[0mtriangle_area\u001b[0m\u001b[1;33m(\u001b[0m\u001b[1;36m5\u001b[0m\u001b[1;33m,\u001b[0m \u001b[0mbase\u001b[0m\u001b[1;33m=\u001b[0m\u001b[1;36m3\u001b[0m\u001b[1;33m)\u001b[0m        \u001b[1;31m# 引数baseを2回使用\u001b[0m\u001b[1;33m\u001b[0m\u001b[1;33m\u001b[0m\u001b[0m\n\u001b[0m",
      "\u001b[1;31mTypeError\u001b[0m: triangle_area() got multiple values for argument 'base'"
     ]
    }
   ],
   "source": [
    "area = triangle_area(5, base=3)        # 引数baseを2回使用"
   ]
  },
  {
   "cell_type": "code",
   "execution_count": 43,
   "metadata": {},
   "outputs": [
    {
     "ename": "TypeError",
     "evalue": "triangle_area() got an unexpected keyword argument 'angle'",
     "output_type": "error",
     "traceback": [
      "\u001b[1;31m---------------------------------------------------------------------------\u001b[0m",
      "\u001b[1;31mTypeError\u001b[0m                                 Traceback (most recent call last)",
      "\u001b[1;32m<ipython-input-43-ba03226bc0fb>\u001b[0m in \u001b[0;36m<module>\u001b[1;34m\u001b[0m\n\u001b[1;32m----> 1\u001b[1;33m \u001b[0marea\u001b[0m \u001b[1;33m=\u001b[0m \u001b[0mtriangle_area\u001b[0m\u001b[1;33m(\u001b[0m\u001b[0mbase\u001b[0m\u001b[1;33m=\u001b[0m\u001b[1;36m5\u001b[0m\u001b[1;33m,\u001b[0m \u001b[0mangle\u001b[0m\u001b[1;33m=\u001b[0m\u001b[1;36m60\u001b[0m\u001b[1;33m)\u001b[0m \u001b[1;31m# 定義していない引数angleを使用\u001b[0m\u001b[1;33m\u001b[0m\u001b[1;33m\u001b[0m\u001b[0m\n\u001b[0m",
      "\u001b[1;31mTypeError\u001b[0m: triangle_area() got an unexpected keyword argument 'angle'"
     ]
    }
   ],
   "source": [
    "area = triangle_area(base=5, angle=60) # 定義していない引数angleを使用"
   ]
  },
  {
   "cell_type": "code",
   "execution_count": 44,
   "metadata": {},
   "outputs": [],
   "source": [
    "area = triangle_area(base=5)           # 必須引数baseのみ設定"
   ]
  },
  {
   "cell_type": "code",
   "execution_count": 45,
   "metadata": {},
   "outputs": [],
   "source": [
    "area = triangle_area(5, height=3)      # heightのみキーワード引数"
   ]
  },
  {
   "cell_type": "code",
   "execution_count": 46,
   "metadata": {},
   "outputs": [],
   "source": [
    "area = triangle_area(height=3, base=5) # キーワード引数の順番変更"
   ]
  },
  {
   "cell_type": "code",
   "execution_count": 48,
   "metadata": {},
   "outputs": [
    {
     "name": "stdout",
     "output_type": "stream",
     "text": [
      "何か数値を入力してください>2\n"
     ]
    },
    {
     "data": {
      "text/plain": [
       "'2'"
      ]
     },
     "execution_count": 48,
     "metadata": {},
     "output_type": "execute_result"
    }
   ],
   "source": [
    "num_str = input('何か数値を入力してください>')\n",
    "num_str"
   ]
  },
  {
   "cell_type": "code",
   "execution_count": 49,
   "metadata": {},
   "outputs": [
    {
     "data": {
      "text/plain": [
       "0.01"
      ]
     },
     "execution_count": 49,
     "metadata": {},
     "output_type": "execute_result"
    }
   ],
   "source": [
    "pow(10, -2)"
   ]
  },
  {
   "cell_type": "code",
   "execution_count": 50,
   "metadata": {},
   "outputs": [
    {
     "data": {
      "text/plain": [
       "5"
      ]
     },
     "execution_count": 50,
     "metadata": {},
     "output_type": "execute_result"
    }
   ],
   "source": [
    "int('5')         # 文字列の5を整数型の5に変換"
   ]
  },
  {
   "cell_type": "code",
   "execution_count": 51,
   "metadata": {},
   "outputs": [
    {
     "data": {
      "text/plain": [
       "5.2"
      ]
     },
     "execution_count": 51,
     "metadata": {},
     "output_type": "execute_result"
    }
   ],
   "source": [
    "float('5.2')     # 文字列の5.2を浮動小数点型の5.2に変換"
   ]
  },
  {
   "cell_type": "code",
   "execution_count": 52,
   "metadata": {},
   "outputs": [
    {
     "data": {
      "text/plain": [
       "'5'"
      ]
     },
     "execution_count": 52,
     "metadata": {},
     "output_type": "execute_result"
    }
   ],
   "source": [
    "str(5)           # 数値の5を文字列型に変換"
   ]
  },
  {
   "cell_type": "code",
   "execution_count": 53,
   "metadata": {},
   "outputs": [
    {
     "data": {
      "text/plain": [
       "[0, 1, 2, 1, 2]"
      ]
     },
     "execution_count": 53,
     "metadata": {},
     "output_type": "execute_result"
    }
   ],
   "source": [
    "tuple_sample = (0, 1, 2, 1, 2) # タプルの例 tuple_sample\n",
    "list(tuple_sample)             # タプルの例tuple_sampleをリストに変換"
   ]
  },
  {
   "cell_type": "code",
   "execution_count": 54,
   "metadata": {},
   "outputs": [
    {
     "data": {
      "text/plain": [
       "(0, 1, 2, 1, 2)"
      ]
     },
     "execution_count": 54,
     "metadata": {},
     "output_type": "execute_result"
    }
   ],
   "source": [
    "list_sample = [0, 1, 2, 1, 2]  # リストの例 list_sample\n",
    "tuple(list_sample)             # リストlist_sampleをタプルに変換"
   ]
  },
  {
   "cell_type": "code",
   "execution_count": 55,
   "metadata": {},
   "outputs": [
    {
     "data": {
      "text/plain": [
       "{0, 1, 2}"
      ]
     },
     "execution_count": 55,
     "metadata": {},
     "output_type": "execute_result"
    }
   ],
   "source": [
    "set(list_sample)               # リストlist_sampleを集合に変換"
   ]
  },
  {
   "cell_type": "code",
   "execution_count": 56,
   "metadata": {},
   "outputs": [
    {
     "name": "stdout",
     "output_type": "stream",
     "text": [
      "[(0, 'coffee'), (1, 'tea'), (2, 'water')]\n"
     ]
    }
   ],
   "source": [
    "drinklist = ['coffee', 'tea', 'water']\n",
    "print(list(enumerate(drinklist)))"
   ]
  },
  {
   "cell_type": "code",
   "execution_count": 57,
   "metadata": {},
   "outputs": [
    {
     "name": "stdout",
     "output_type": "stream",
     "text": [
      "0 coffee\n",
      "1 tea\n",
      "2 water\n"
     ]
    }
   ],
   "source": [
    "for i, drink in enumerate(drinklist): # 要素番号をi，リストの内容をdrinkに代入\n",
    "    print(i, drink)"
   ]
  },
  {
   "cell_type": "code",
   "execution_count": 58,
   "metadata": {},
   "outputs": [
    {
     "data": {
      "text/plain": [
       "[2, 4, 8]"
      ]
     },
     "execution_count": 58,
     "metadata": {},
     "output_type": "execute_result"
    }
   ],
   "source": [
    "numlist = [1, 2, 4]\n",
    "def double(x):\n",
    "    return x * 2\n",
    "list(map(double, numlist))"
   ]
  },
  {
   "cell_type": "code",
   "execution_count": 59,
   "metadata": {},
   "outputs": [
    {
     "data": {
      "text/plain": [
       "[3, 6]"
      ]
     },
     "execution_count": 59,
     "metadata": {},
     "output_type": "execute_result"
    }
   ],
   "source": [
    "numlist = [1, 3, 6, 8]\n",
    "def even_three_div(x):\n",
    "    return x % 3 == 0\n",
    "list(filter(even_three_div, numlist))"
   ]
  },
  {
   "cell_type": "code",
   "execution_count": 60,
   "metadata": {},
   "outputs": [
    {
     "data": {
      "text/plain": [
       "[('steak', 'coffee'), ('salad', 'tea'), ('dessert', 'water')]"
      ]
     },
     "execution_count": 60,
     "metadata": {},
     "output_type": "execute_result"
    }
   ],
   "source": [
    "meallist = ['steak', 'salad', 'dessert']\n",
    "drinklist = ['coffee', 'tea', 'water']\n",
    "list(zip(meallist, drinklist))"
   ]
  },
  {
   "cell_type": "code",
   "execution_count": 61,
   "metadata": {},
   "outputs": [
    {
     "data": {
      "text/plain": [
       "{'steak': 1, 'salad': 2, 'dessert': 3}"
      ]
     },
     "execution_count": 61,
     "metadata": {},
     "output_type": "execute_result"
    }
   ],
   "source": [
    "dict_a = dict(steak=1, salad=2, dessert=3)\n",
    "dict_a"
   ]
  },
  {
   "cell_type": "code",
   "execution_count": 62,
   "metadata": {},
   "outputs": [
    {
     "data": {
      "text/plain": [
       "{'steak': 1, 'salad': 2, 'dessert': 3}"
      ]
     },
     "execution_count": 62,
     "metadata": {},
     "output_type": "execute_result"
    }
   ],
   "source": [
    "meallist = ['steak', 'salad', 'dessert']\n",
    "numlist = [1, 2, 3]\n",
    "dict_b = dict(zip(meallist, numlist))\n",
    "dict_b"
   ]
  },
  {
   "cell_type": "code",
   "execution_count": 63,
   "metadata": {},
   "outputs": [],
   "source": [
    "def count_up():\n",
    "    n = 1\n",
    "    while True:\n",
    "        yield n\n",
    "        n += 1"
   ]
  },
  {
   "cell_type": "code",
   "execution_count": 64,
   "metadata": {},
   "outputs": [
    {
     "name": "stdout",
     "output_type": "stream",
     "text": [
      "1 2 3 4 5 6 7 "
     ]
    }
   ],
   "source": [
    "generator = count_up()\n",
    "for num in generator:\n",
    "    print(num, end=' ')\n",
    "    if num == 7:\n",
    "        break"
   ]
  },
  {
   "cell_type": "code",
   "execution_count": 65,
   "metadata": {},
   "outputs": [
    {
     "name": "stdout",
     "output_type": "stream",
     "text": [
      "8 9 10 11 12 13 14 15 "
     ]
    }
   ],
   "source": [
    "for num in generator:\n",
    "    print(num, end=' ')\n",
    "    if num == 15:\n",
    "        break"
   ]
  },
  {
   "cell_type": "code",
   "execution_count": 66,
   "metadata": {},
   "outputs": [
    {
     "data": {
      "text/plain": [
       "4"
      ]
     },
     "execution_count": 66,
     "metadata": {},
     "output_type": "execute_result"
    }
   ],
   "source": [
    "double = lambda x : x * 2\n",
    "double(2)"
   ]
  },
  {
   "cell_type": "code",
   "execution_count": 67,
   "metadata": {},
   "outputs": [
    {
     "name": "stdout",
     "output_type": "stream",
     "text": [
      "(2, 3)\n"
     ]
    }
   ],
   "source": [
    "def variable_args(first, *args):\n",
    "    print(args)\n",
    "\n",
    "variable_args(1, 2, 3)"
   ]
  },
  {
   "cell_type": "code",
   "execution_count": 68,
   "metadata": {},
   "outputs": [
    {
     "data": {
      "text/plain": [
       "[(2, 'February'), (1, 'January'), (3, 'March')]"
      ]
     },
     "execution_count": 68,
     "metadata": {},
     "output_type": "execute_result"
    }
   ],
   "source": [
    "month_name = [(1, 'January'), (2, 'February'), (3, 'March')]\n",
    "month_name.sort(key = lambda x : x[1])   # sortのkeyに2番目の値を使用\n",
    "month_name"
   ]
  },
  {
   "cell_type": "code",
   "execution_count": 69,
   "metadata": {},
   "outputs": [
    {
     "name": "stdout",
     "output_type": "stream",
     "text": [
      "7.5\n"
     ]
    }
   ],
   "source": [
    "def compute_area(x):\n",
    "    area = x ** 2\n",
    "print(area)"
   ]
  },
  {
   "cell_type": "code",
   "execution_count": 70,
   "metadata": {},
   "outputs": [
    {
     "name": "stdout",
     "output_type": "stream",
     "text": [
      "Hello\n",
      "Good Morning \n"
     ]
    }
   ],
   "source": [
    "greeting = 'Good Morning '\n",
    "def afternoon():\n",
    "    greeting = 'Hello'\n",
    "    print(greeting)\n",
    "afternoon()\n",
    "print(greeting)"
   ]
  },
  {
   "cell_type": "code",
   "execution_count": 71,
   "metadata": {},
   "outputs": [
    {
     "name": "stdout",
     "output_type": "stream",
     "text": [
      "Hello\n"
     ]
    }
   ],
   "source": [
    "greeting = 'Good Morning '\n",
    "def afternoon():\n",
    "    global greeting\n",
    "    greeting = 'Hello'\n",
    "afternoon()\n",
    "print(greeting)"
   ]
  },
  {
   "cell_type": "code",
   "execution_count": 72,
   "metadata": {},
   "outputs": [],
   "source": [
    "def wrapping(contents):\n",
    "    print('---- start ----') # 文章の前に表示\n",
    "    contents()               # contents()の内容を実行\n",
    "    print('---- end   ----') # 文章の後に表示"
   ]
  },
  {
   "cell_type": "code",
   "execution_count": 73,
   "metadata": {},
   "outputs": [
    {
     "name": "stdout",
     "output_type": "stream",
     "text": [
      "---- start ----\n",
      "これが内容です。\n",
      "---- end   ----\n"
     ]
    }
   ],
   "source": [
    "@wrapping                    # デコレータ\n",
    "def contents():              # contents()の内容を定義\n",
    "    print('これが内容です。')"
   ]
  },
  {
   "cell_type": "code",
   "execution_count": 74,
   "metadata": {},
   "outputs": [
    {
     "name": "stdout",
     "output_type": "stream",
     "text": [
      "---- start ----\n",
      "これが内容です。\n",
      "---- end   ----\n"
     ]
    }
   ],
   "source": [
    "def contents():\n",
    "    print('これが内容です。')\n",
    "contents = wrapping(contents)"
   ]
  },
  {
   "cell_type": "code",
   "execution_count": 75,
   "metadata": {},
   "outputs": [
    {
     "name": "stdout",
     "output_type": "stream",
     "text": [
      "1 2\n"
     ]
    }
   ],
   "source": [
    "def double(x):\n",
    "    x = x * 2\n",
    "    return x\n",
    "\n",
    "x = 1\n",
    "y = double(x)\n",
    "print(x, y)"
   ]
  },
  {
   "cell_type": "code",
   "execution_count": 76,
   "metadata": {},
   "outputs": [
    {
     "data": {
      "text/plain": [
       "['Carrot', 'Apple', 'Pampkin']"
      ]
     },
     "execution_count": 76,
     "metadata": {},
     "output_type": "execute_result"
    }
   ],
   "source": [
    "def list_mod(original):\n",
    "    original[1] = 'Apple'\n",
    "\n",
    "vegetables = ['Carrot', 'Potato', 'Pampkin']\n",
    "list_mod(vegetables)\n",
    "vegetables"
   ]
  },
  {
   "cell_type": "code",
   "execution_count": 77,
   "metadata": {},
   "outputs": [
    {
     "name": "stdout",
     "output_type": "stream",
     "text": [
      "[1, 4, 3] [1, 4, 3]\n"
     ]
    }
   ],
   "source": [
    "lista = [1, 2, 3]\n",
    "listb = lista\n",
    "listb[1] = 4\n",
    "print(lista, listb)"
   ]
  },
  {
   "cell_type": "code",
   "execution_count": 78,
   "metadata": {},
   "outputs": [
    {
     "name": "stdout",
     "output_type": "stream",
     "text": [
      "[1, 2, 3] [1, 4, 3]\n"
     ]
    }
   ],
   "source": [
    "import copy\n",
    "\n",
    "lista = [1, 2, 3]\n",
    "listb = copy.copy(lista)\n",
    "listb[1] = 4\n",
    "print(lista, listb)"
   ]
  },
  {
   "cell_type": "code",
   "execution_count": 79,
   "metadata": {},
   "outputs": [
    {
     "name": "stdout",
     "output_type": "stream",
     "text": [
      "[[1, 2, 3], [4, 7, 6]] [[1, 2, 3], [4, 7, 6]]\n"
     ]
    }
   ],
   "source": [
    "lista = [[1, 2, 3], [4, 5, 6]]\n",
    "listb = copy.copy(lista)\n",
    "listb[1][1] = 7\n",
    "print(lista, listb)"
   ]
  },
  {
   "cell_type": "code",
   "execution_count": 80,
   "metadata": {},
   "outputs": [
    {
     "name": "stdout",
     "output_type": "stream",
     "text": [
      "[[1, 2, 3], [4, 5, 6]] [[1, 2, 3], [4, 7, 6]]\n"
     ]
    }
   ],
   "source": [
    "lista = [[1, 2, 3], [4, 5, 6]]\n",
    "listb = copy.deepcopy(lista)\n",
    "listb[1][1] = 7\n",
    "print(lista, listb)"
   ]
  },
  {
   "cell_type": "code",
   "execution_count": 81,
   "metadata": {},
   "outputs": [
    {
     "name": "stdout",
     "output_type": "stream",
     "text": [
      "Python tutorial 1 default content\n"
     ]
    }
   ],
   "source": [
    "def article(title, number=1, content='content'):\n",
    "    content = 'default content'\n",
    "    print(title, end=' ')\n",
    "    print(number, end=' ')\n",
    "    print(content)\n",
    "\n",
    "article('Python tutorial', content='Python Love')"
   ]
  },
  {
   "cell_type": "code",
   "execution_count": 82,
   "metadata": {},
   "outputs": [
    {
     "name": "stdout",
     "output_type": "stream",
     "text": [
      "[('Benno', 'Mark'), ('Ferdinando', 'Myne'), ('Myne', 'Lutz')]\n"
     ]
    }
   ],
   "source": [
    "teacher = ['Benno', 'Ferdinando', 'Myne']\n",
    "student = ['Mark', 'Myne', 'Lutz']\n",
    "\n",
    "print(list(zip(teacher, student)))"
   ]
  },
  {
   "cell_type": "code",
   "execution_count": 83,
   "metadata": {},
   "outputs": [
    {
     "data": {
      "text/plain": [
       "<zip at 0x2277dd77988>"
      ]
     },
     "execution_count": 83,
     "metadata": {},
     "output_type": "execute_result"
    }
   ],
   "source": [
    "zip(teacher, student)"
   ]
  },
  {
   "cell_type": "markdown",
   "metadata": {},
   "source": [
    "線形探索"
   ]
  },
  {
   "cell_type": "code",
   "execution_count": 84,
   "metadata": {},
   "outputs": [],
   "source": [
    "def search(data, target):\n",
    "    for i in range(len(data)):  # 先頭から順番に探索\n",
    "        if data[i] == target:   # 見つかったときにはその位置iを返す\n",
    "            return i\n",
    "    return -1                   # 見つからないときは-1を返す"
   ]
  },
  {
   "cell_type": "code",
   "execution_count": 85,
   "metadata": {},
   "outputs": [
    {
     "name": "stdout",
     "output_type": "stream",
     "text": [
      "要素番号5にデータ6を見つけました。\n"
     ]
    }
   ],
   "source": [
    "data = [1, 2, 3, 4, 5, 6, 7, 8, 9]\n",
    "target = 6\n",
    "print(\"要素番号{}にデータ{}を見つけました。\".format(search(data, target), target))"
   ]
  },
  {
   "cell_type": "markdown",
   "metadata": {},
   "source": [
    "2分探索"
   ]
  },
  {
   "cell_type": "code",
   "execution_count": 86,
   "metadata": {},
   "outputs": [],
   "source": [
    "def search(data, target):\n",
    "    start, end = 0, len(data)     # 探索するデータの始点startと終点endを設定\n",
    "    while start <= end:           # 探索するデータがある間は繰り返す\n",
    "        i = (start + end) // 2    # 真ん中のデータをiとする\n",
    "        if data[i] == target:     # 見つかったときにはその位置iを返す\n",
    "            return i\n",
    "        elif data[i] < target:    # targetの値の方が大きい場合は後のグループを探索\n",
    "            start = i + 1\n",
    "        else:                     # そうでない合は前のグループを探索\n",
    "            end = i - 1\n",
    "    return -1                     # 見つからないときは-1を返す"
   ]
  },
  {
   "cell_type": "markdown",
   "metadata": {},
   "source": [
    "バブルソート"
   ]
  },
  {
   "cell_type": "code",
   "execution_count": 87,
   "metadata": {},
   "outputs": [],
   "source": [
    "def sort(data):\n",
    "    for i in range(len(data)-1, 0, -1):     # 後ろから順に比較していく\n",
    "        for j in range(i):                  # 未整列の部分を比較\n",
    "            if data[j] > data[j+1]:         # 隣り合う要素で後の方が大きい場合\n",
    "                data[j], data[j+1] = data[j+1], data[j]  # 要素を入れ替える"
   ]
  },
  {
   "cell_type": "code",
   "execution_count": 88,
   "metadata": {},
   "outputs": [
    {
     "name": "stdout",
     "output_type": "stream",
     "text": [
      "[1, 1, 2, 2, 3, 4, 5]\n"
     ]
    }
   ],
   "source": [
    "data = [1, 3, 2, 5, 4, 2, 1]\n",
    "sort(data)\n",
    "print(data)"
   ]
  },
  {
   "cell_type": "markdown",
   "metadata": {},
   "source": [
    "挿入ソート"
   ]
  },
  {
   "cell_type": "code",
   "execution_count": 89,
   "metadata": {},
   "outputs": [],
   "source": [
    "def sort(data):\n",
    "    for i in range(0, len(data)):            # 最初から順に整列させていく\n",
    "        for j in range(i-1, -1, -1):         # 一番後ろの要素を挿入する場所を探す\n",
    "            if data[j] > data[j+1]:          # 隣り合う要素で後の方が大きい場合\n",
    "                data[j], data[j+1] = data[j+1], data[j]  # 要素を入れ替える\n",
    "            else:\n",
    "                break                        # 挿入する部分が見つかれば終わり"
   ]
  },
  {
   "cell_type": "markdown",
   "metadata": {},
   "source": [
    "選択ソート"
   ]
  },
  {
   "cell_type": "code",
   "execution_count": 90,
   "metadata": {},
   "outputs": [],
   "source": [
    "def sort(data):\n",
    "    for i in range(0, len(data)-1):            # 最初から順に選択していく\n",
    "        min_i = i                              # 最小値の位置をmin_iに求める\n",
    "        for j in range(i+1, len(data)):        # 最小値を探すループ\n",
    "            if data[min_i] > data[j]:          # より小さい値があれば，最小値を置き換える\n",
    "                min_i = j\n",
    "        data[min_i], data[i] = data[i], data[min_i]  # 最小値の場所と要素を入れ替える"
   ]
  },
  {
   "cell_type": "markdown",
   "metadata": {},
   "source": [
    "シェルソート"
   ]
  },
  {
   "cell_type": "code",
   "execution_count": 91,
   "metadata": {},
   "outputs": [],
   "source": [
    "def sort(data):\n",
    "    gaps = [7, 3, 1]                            # ギャップの値をあらかじめ設定\n",
    "    for gap in gaps:                            # gapを段々狭めて繰り返す\n",
    "        for i in range(0, len(data), gap):      # gapの幅で飛ばしながら挿入ソート\n",
    "            for j in range(i-gap, 0, -gap):\n",
    "                if data[j] > data[j+gap]:       # gap分離れた要素で後の方が大きい場合\n",
    "                    data[j], data[j+gap] = data[j+gap], data[j]  # 要素を入れ替える\n",
    "                else:\n",
    "                    break                       # 挿入する部分が見つかれば終わり"
   ]
  },
  {
   "cell_type": "markdown",
   "metadata": {},
   "source": [
    "ヒープソート"
   ]
  },
  {
   "cell_type": "code",
   "execution_count": 92,
   "metadata": {},
   "outputs": [],
   "source": [
    "from heapq import heappush, heappop      # ヒープを扱う標準ライブラリheapqを利用\n",
    "\n",
    "def sort(data):\n",
    "    heap = []                            # 空のヒープ（リスト）を作成\n",
    "    while data:                          # dataから要素を取り出して，ヒープに入れる\n",
    "        heappush(heap, data.pop())       # dataの最後の要素を取り出して，heappushでheapに入れる\n",
    "    while heap:                          # heapから順に要素を取り出し，dataに戻す\n",
    "        data.append(heappop(heap))       # heapから最小値を取り出して，dataの最後に追加する"
   ]
  },
  {
   "cell_type": "markdown",
   "metadata": {},
   "source": [
    "f(n) : if n≦1 then return 1 else return n+f(n-1)"
   ]
  },
  {
   "cell_type": "code",
   "execution_count": 93,
   "metadata": {},
   "outputs": [],
   "source": [
    "def f(n):\n",
    "    if n <= 1:\n",
    "        return 1\n",
    "    else:\n",
    "        return n + f(n-1)"
   ]
  },
  {
   "cell_type": "code",
   "execution_count": 94,
   "metadata": {},
   "outputs": [
    {
     "name": "stdout",
     "output_type": "stream",
     "text": [
      "15\n"
     ]
    }
   ],
   "source": [
    "print(f(5))"
   ]
  },
  {
   "cell_type": "markdown",
   "metadata": {},
   "source": [
    "クイックソート"
   ]
  },
  {
   "cell_type": "code",
   "execution_count": 95,
   "metadata": {},
   "outputs": [],
   "source": [
    "def sort(data):\n",
    "    n = len(data)\n",
    "    pivot = data[n//2]               # 今回の基準値には，真ん中の値を利用  \n",
    "    left, right, middle = [], [], []\n",
    "    for i in range(n):\n",
    "        if data[i] < pivot:          # 基準値より小さい場合は，左部分列leftに追加\n",
    "            left.append(data[i])\n",
    "        elif data[i] > pivot:        # 基準値より大きい場合は，右部分列rightに追加\n",
    "            right.append(data[i])\n",
    "        else:\n",
    "            middle.append(data[i])   # 基準値と同じ場合には，部分列middleに追加\n",
    "    if left:\n",
    "        left = sort(left)            # 再帰でleftを分割\n",
    "    if right:\n",
    "        right = sort(right)          # 再帰でrightを分割\n",
    "    return left + middle + right     # 順番に部分列を結合させて，戻り値にする"
   ]
  },
  {
   "cell_type": "code",
   "execution_count": 96,
   "metadata": {},
   "outputs": [
    {
     "name": "stdout",
     "output_type": "stream",
     "text": [
      "[1, 1, 2, 2, 3, 4, 5]\n"
     ]
    }
   ],
   "source": [
    "data = [1, 3, 2, 5, 4, 2, 1]\n",
    "data = sort(data)\n",
    "print(data)"
   ]
  },
  {
   "cell_type": "markdown",
   "metadata": {},
   "source": [
    "マージソート"
   ]
  },
  {
   "cell_type": "code",
   "execution_count": 97,
   "metadata": {},
   "outputs": [],
   "source": [
    "def sort(data):\n",
    "    if len(data) <= 1:                # 長さが1以下の場合は分割できないので終了\n",
    "        return data\n",
    "\n",
    "    # 分割操作\n",
    "    mid = len(data) // 2              # 真ん中を計算\n",
    "    left = sort(data[:mid])           # 再帰で前半を分割してleftに\n",
    "    right = sort(data[mid:])          # 再帰で後半を分割してrightに\n",
    "    \n",
    "    # 統合操作\n",
    "    merge, l, r = [], 0, 0            # margeに統合\n",
    "    while l < len(left) and r < len(right):   # leftとrightの両方に要素がある場合\n",
    "        if left[l] <= right[r]:       # 左側≦右側の場合\n",
    "            merge.append(left[l])     # 左側をmergeに加える\n",
    "            l += 1\n",
    "        else:                         # 左側＞右側の場合\n",
    "            merge.append(right[r])    # 右側をmergeに加える\n",
    "            r += 1\n",
    "    if l < len(left):                 # 左側が余った場合に残りを追加\n",
    "        merge.extend(left[l:])\n",
    "    elif r < len(right):              # 右側が余った場合に残りを追加\n",
    "        merge.extend(right[r:])\n",
    "    return merge    "
   ]
  },
  {
   "cell_type": "code",
   "execution_count": 98,
   "metadata": {},
   "outputs": [],
   "source": [
    "A = [1, 2, 3]\n",
    "B = [1, 2, 3]\n",
    "C = [1, 2, 3]"
   ]
  },
  {
   "cell_type": "code",
   "execution_count": 99,
   "metadata": {},
   "outputs": [],
   "source": [
    "def f():\n",
    "    if not A:\n",
    "        pass\n",
    "    else:\n",
    "        C.append(A.pop())\n",
    "        f()\n",
    "        B.append(C.pop())"
   ]
  },
  {
   "cell_type": "code",
   "execution_count": 100,
   "metadata": {},
   "outputs": [
    {
     "name": "stdout",
     "output_type": "stream",
     "text": [
      "[] [1, 2, 3, 1, 2, 3] [1, 2, 3]\n"
     ]
    }
   ],
   "source": [
    "f()\n",
    "print(A, B, C)"
   ]
  },
  {
   "cell_type": "code",
   "execution_count": null,
   "metadata": {},
   "outputs": [],
   "source": []
  }
 ],
 "metadata": {
  "kernelspec": {
   "display_name": "Python 3",
   "language": "python",
   "name": "python3"
  },
  "language_info": {
   "codemirror_mode": {
    "name": "ipython",
    "version": 3
   },
   "file_extension": ".py",
   "mimetype": "text/x-python",
   "name": "python",
   "nbconvert_exporter": "python",
   "pygments_lexer": "ipython3",
   "version": "3.7.3"
  }
 },
 "nbformat": 4,
 "nbformat_minor": 2
}
